{
 "cells": [
  {
   "cell_type": "code",
   "execution_count": 48,
   "metadata": {},
   "outputs": [],
   "source": [
    "import numpy as np\n",
    "import matplotlib.pyplot as plt\n",
    "import tensorflow as tf\n",
    "from glob import glob\n",
    "from keras.layers import Input, Lambda, Dense, Flatten\n",
    "from keras.models import Model\n",
    "from keras.models import Sequential\n",
    "from keras.models import load_model\n",
    "from keras.preprocessing import image\n",
    "from keras.preprocessing.image import ImageDataGenerator\n",
    "from keras.applications.vgg16 import VGG16\n",
    "from keras.applications.vgg16 import preprocess_input"
   ]
  },
  {
   "cell_type": "code",
   "execution_count": 11,
   "metadata": {},
   "outputs": [],
   "source": [
    "IMG_SIZE = [224, 224]\n",
    "\n",
    "TRAIN_DIR = 'chest_xray/train'\n",
    "TEST_DIR = 'chest_xray/test'"
   ]
  },
  {
   "cell_type": "code",
   "execution_count": 22,
   "metadata": {},
   "outputs": [
    {
     "name": "stdout",
     "output_type": "stream",
     "text": [
      "_________________________________________________________________\n",
      "Layer (type)                 Output Shape              Param #   \n",
      "=================================================================\n",
      "input_8 (InputLayer)         (None, 224, 224, 3)       0         \n",
      "_________________________________________________________________\n",
      "block1_conv1 (Conv2D)        (None, 224, 224, 64)      1792      \n",
      "_________________________________________________________________\n",
      "block1_conv2 (Conv2D)        (None, 224, 224, 64)      36928     \n",
      "_________________________________________________________________\n",
      "block1_pool (MaxPooling2D)   (None, 112, 112, 64)      0         \n",
      "_________________________________________________________________\n",
      "block2_conv1 (Conv2D)        (None, 112, 112, 128)     73856     \n",
      "_________________________________________________________________\n",
      "block2_conv2 (Conv2D)        (None, 112, 112, 128)     147584    \n",
      "_________________________________________________________________\n",
      "block2_pool (MaxPooling2D)   (None, 56, 56, 128)       0         \n",
      "_________________________________________________________________\n",
      "block3_conv1 (Conv2D)        (None, 56, 56, 256)       295168    \n",
      "_________________________________________________________________\n",
      "block3_conv2 (Conv2D)        (None, 56, 56, 256)       590080    \n",
      "_________________________________________________________________\n",
      "block3_conv3 (Conv2D)        (None, 56, 56, 256)       590080    \n",
      "_________________________________________________________________\n",
      "block3_pool (MaxPooling2D)   (None, 28, 28, 256)       0         \n",
      "_________________________________________________________________\n",
      "block4_conv1 (Conv2D)        (None, 28, 28, 512)       1180160   \n",
      "_________________________________________________________________\n",
      "block4_conv2 (Conv2D)        (None, 28, 28, 512)       2359808   \n",
      "_________________________________________________________________\n",
      "block4_conv3 (Conv2D)        (None, 28, 28, 512)       2359808   \n",
      "_________________________________________________________________\n",
      "block4_pool (MaxPooling2D)   (None, 14, 14, 512)       0         \n",
      "_________________________________________________________________\n",
      "block5_conv1 (Conv2D)        (None, 14, 14, 512)       2359808   \n",
      "_________________________________________________________________\n",
      "block5_conv2 (Conv2D)        (None, 14, 14, 512)       2359808   \n",
      "_________________________________________________________________\n",
      "block5_conv3 (Conv2D)        (None, 14, 14, 512)       2359808   \n",
      "_________________________________________________________________\n",
      "block5_pool (MaxPooling2D)   (None, 7, 7, 512)         0         \n",
      "_________________________________________________________________\n",
      "flatten_5 (Flatten)          (None, 25088)             0         \n",
      "_________________________________________________________________\n",
      "dense_3 (Dense)              (None, 2)                 50178     \n",
      "=================================================================\n",
      "Total params: 14,764,866\n",
      "Trainable params: 50,178\n",
      "Non-trainable params: 14,714,688\n",
      "_________________________________________________________________\n"
     ]
    }
   ],
   "source": [
    "VGG = VGG16(input_shape=IMG_SIZE + [3], weights='imagenet', include_top=False)\n",
    "\n",
    "for layer in VGG.layers:\n",
    "    layer.trainable = False\n",
    "    \n",
    "folders = glob('chest_xray/train/*')\n",
    "\n",
    "X = Flatten()(VGG.output)\n",
    "\n",
    "prediction = Dense(len(folders), activation='softmax')(X)\n",
    "\n",
    "model = Model(inputs=VGG.input, outputs=prediction)\n",
    "\n",
    "model.summary()"
   ]
  },
  {
   "cell_type": "code",
   "execution_count": 35,
   "metadata": {},
   "outputs": [
    {
     "name": "stdout",
     "output_type": "stream",
     "text": [
      "Found 5216 images belonging to 2 classes.\n",
      "Found 624 images belonging to 2 classes.\n"
     ]
    }
   ],
   "source": [
    "model.compile(loss='categorical_crossentropy', optimizer='adam', metrics=['accuracy'])\n",
    "\n",
    "train_data_gen = ImageDataGenerator(rescale = 1./255, shear_range = 0.2, \n",
    "                                    zoom_range = 0.2, horizontal_flip = True)\n",
    "test_data_gen = ImageDataGenerator(rescale = 1./255)\n",
    "\n",
    "train_set = train_data_gen.flow_from_directory('chest_xray/train', target_size = (224, 224), \n",
    "                                               batch_size = 32, class_mode = 'categorical')\n",
    "test_set = test_data_gen.flow_from_directory('chest_xray/test', target_size = (224, 224),\n",
    "                                            batch_size = 32, class_mode = 'categorical')"
   ]
  },
  {
   "cell_type": "code",
   "execution_count": 39,
   "metadata": {},
   "outputs": [
    {
     "name": "stdout",
     "output_type": "stream",
     "text": [
      "WARNING:tensorflow:From C:\\ProgramData\\Anaconda3\\lib\\site-packages\\tensorflow_core\\python\\ops\\math_grad.py:1424: where (from tensorflow.python.ops.array_ops) is deprecated and will be removed in a future version.\n",
      "Instructions for updating:\n",
      "Use tf.where in 2.0, which has the same broadcast rule as np.where\n",
      "WARNING:tensorflow:From C:\\ProgramData\\Anaconda3\\lib\\site-packages\\keras\\backend\\tensorflow_backend.py:986: The name tf.assign_add is deprecated. Please use tf.compat.v1.assign_add instead.\n",
      "\n",
      "WARNING:tensorflow:From C:\\ProgramData\\Anaconda3\\lib\\site-packages\\keras\\backend\\tensorflow_backend.py:973: The name tf.assign is deprecated. Please use tf.compat.v1.assign instead.\n",
      "\n",
      "Epoch 1/5\n",
      "163/163 [==============================] - 3115s 19s/step - loss: 0.2361 - acc: 0.9133 - val_loss: 0.2744 - val_acc: 0.9087\n",
      "Epoch 2/5\n",
      "163/163 [==============================] - 3066s 19s/step - loss: 0.1101 - acc: 0.9597 - val_loss: 0.3673 - val_acc: 0.8878\n",
      "Epoch 3/5\n",
      "163/163 [==============================] - 3395s 21s/step - loss: 0.1057 - acc: 0.9584 - val_loss: 0.3109 - val_acc: 0.9167\n",
      "Epoch 4/5\n",
      "163/163 [==============================] - 3099s 19s/step - loss: 0.0854 - acc: 0.9672 - val_loss: 0.2848 - val_acc: 0.9151\n",
      "Epoch 5/5\n",
      "163/163 [==============================] - 3316s 20s/step - loss: 0.0782 - acc: 0.9724 - val_loss: 0.2716 - val_acc: 0.8974\n"
     ]
    }
   ],
   "source": [
    "m = model.fit_generator(train_set, validation_data=test_set, epochs=5, \n",
    "                        steps_per_epoch=len(train_set), validation_steps = len(test_set))"
   ]
  },
  {
   "cell_type": "code",
   "execution_count": 47,
   "metadata": {},
   "outputs": [
    {
     "data": {
      "image/png": "[encoded data removed]",
      "text/plain": [
       "<Figure size 432x288 with 1 Axes>"
      ]
     },
     "metadata": {
      "needs_background": "light"
     },
     "output_type": "display_data"
    }
   ],
   "source": [
    "plt.plot(m.history['loss'], label='Train loss')\n",
    "plt.plot(m.history['val_loss'], label='Val loss')\n",
    "plt.legend()\n",
    "plt.show()"
   ]
  },
  {
   "cell_type": "code",
   "execution_count": 46,
   "metadata": {},
   "outputs": [
    {
     "data": {
      "image/png": "[encoded data removed]",
      "text/plain": [
       "<Figure size 432x288 with 1 Axes>"
      ]
     },
     "metadata": {
      "needs_background": "light"
     },
     "output_type": "display_data"
    }
   ],
   "source": [
    "plt.plot(m.history['acc'], label='Train acc')\n",
    "plt.plot(m.history['val_acc'], label='Val acc')\n",
    "plt.legend()\n",
    "plt.show()"
   ]
  },
  {
   "cell_type": "code",
   "execution_count": 50,
   "metadata": {},
   "outputs": [],
   "source": [
    "model.save('ModelVGG.h5')"
   ]
  },
  {
   "cell_type": "code",
   "execution_count": 72,
   "metadata": {},
   "outputs": [
    {
     "name": "stdout",
     "output_type": "stream",
     "text": [
      "The first person is suffering from pneumonia.\n",
      "The second person is not suffering from pneumonia.\n"
     ]
    }
   ],
   "source": [
    "model = load_model('ModelVGG.h5')\n",
    "\n",
    "IMG1 = image.load_img('chest_xray/val/PNEUMONIA/person1951_bacteria_4882.jpeg', target_size=(224, 224))\n",
    "IMG2 = image.load_img('chest_xray/val/NORMAL/NORMAL2-IM-1427-0001.jpeg', target_size=(224, 224))\n",
    "\n",
    "X1 = image.img_to_array(IMG1)\n",
    "X1 = np.expand_dims(X1, axis=0)\n",
    "\n",
    "X2 = image.img_to_array(IMG2)\n",
    "X2 = np.expand_dims(X2, axis=0)\n",
    "\n",
    "IMG1_data = preprocess_input(X1)\n",
    "predictionF = model.predict(IMG1_data)\n",
    "\n",
    "IMG2_data = preprocess_input(X2)\n",
    "predictionS = model.predict(IMG2_data)\n",
    "\n",
    "if round(predictionF[0][0])==1:\n",
    "    print('The first person is not suffering from pneumonia.')\n",
    "else:\n",
    "    print('The first person is suffering from pneumonia.')\n",
    "    \n",
    "if round(predictionS[0][0])==1:\n",
    "    print('The second person is not suffering from pneumonia.')\n",
    "else:\n",
    "    print('The second person is suffering from pneumonia.')"
   ]
  }
 ],
 "metadata": {
  "kernelspec": {
   "display_name": "Python 3",
   "language": "python",
   "name": "python3"
  },
  "language_info": {
   "codemirror_mode": {
    "name": "ipython",
    "version": 3
   },
   "file_extension": ".py",
   "mimetype": "text/x-python",
   "name": "python",
   "nbconvert_exporter": "python",
   "pygments_lexer": "ipython3",
   "version": "3.7.4"
  }
 },
 "nbformat": 4,
 "nbformat_minor": 2
}
